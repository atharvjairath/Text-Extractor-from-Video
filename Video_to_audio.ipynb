{
 "cells": [
  {
   "cell_type": "code",
   "execution_count": 7,
   "metadata": {},
   "outputs": [],
   "source": [
    "import os\n",
    "def Video_to_audio(path,vid_ext,aud_ext):\n",
    "    \n",
    "    VIDEOS_PATH = path\n",
    "    VIDEOS_EXTENSION = vid_ext #\".mp4\"\n",
    "    AUDIO_EXT = aud_ext  #\"wav\"\n",
    "    EXTRACT_VIDEO_COMMAND = ('ffmpeg -i \"{from_video_path}\" '\n",
    "                             '-f {audio_ext} -ab 192000 '\n",
    "                             '-vn \"{to_audio_path}\"')\n",
    "\n",
    "    os.chdir(VIDEOS_PATH)\n",
    "    files = os.listdir(VIDEOS_PATH)\n",
    "    for f in files:\n",
    "        if not f.endswith(VIDEOS_EXTENSION):\n",
    "            continue\n",
    "\n",
    "        audio_file_name = '{}.{}'.format(f, AUDIO_EXT)\n",
    "        command = EXTRACT_VIDEO_COMMAND.format(\n",
    "            from_video_path=f, audio_ext=AUDIO_EXT, to_audio_path=audio_file_name,\n",
    "        )\n",
    "        os.system(command)"
   ]
  },
  {
   "cell_type": "code",
   "execution_count": 9,
   "metadata": {},
   "outputs": [],
   "source": [
    "Video_to_audio('/Users/Atharv/Desktop/Video 4 Files',\"mp4\",\"wav\")\n",
    "    "
   ]
  }
 ],
 "metadata": {
  "kernelspec": {
   "display_name": "Python 3",
   "language": "python",
   "name": "python3"
  },
  "language_info": {
   "codemirror_mode": {
    "name": "ipython",
    "version": 3
   },
   "file_extension": ".py",
   "mimetype": "text/x-python",
   "name": "python",
   "nbconvert_exporter": "python",
   "pygments_lexer": "ipython3",
   "version": "3.7.6"
  }
 },
 "nbformat": 4,
 "nbformat_minor": 4
}
